{
 "cells": [
  {
   "cell_type": "code",
   "execution_count": null,
   "id": "a69e7a46-3357-4b7b-8ce4-d4453ecfb12e",
   "metadata": {
    "vscode": {
     "languageId": "python"
    }
   },
   "outputs": [],
   "source": [
    "JAX-WSPM/\n",
    "│\n",
    "├── config/               # Configuration settings\n",
    "│   ├── init.py\n",
    "│   |── settings.py \n",
    "|   └── welcome_banner.py\n",
    "│\n",
    "├── data/                # Data directory\n",
    "│   ├── mesh/           # Mesh files\n",
    "│       ├── richards/\n",
    "│       ├── solute/   \n",
    "│   \n",
    "|──outputdirection/ # npz files\n",
    "│\n",
    "├── src/                # Source code\n",
    "│   ├── init.py\n",
    "│   ├── models/        # Physical models\n",
    "│   │   ├── init.py\n",
    "│   │   ├── exponential.py    # the GArdner model for relationships water retention curves\n",
    "|   |   ├── van_genuchten.py  # the van Genuchten model for relationships water retention curves\n",
    "|   |   ├── transport_utilities.py # includes water flux calculations\n",
    "│   │   └── boundary.py\n",
    "│   │\n",
    "│   ├── mesh/          # Mesh handling\n",
    "│   │   ├── init.py\n",
    "│   │   └── loader.py #load und validate the mesh\n",
    "│   │\n",
    "│   ├── numerics/      # Numerical methods\n",
    "│   │   ├── init.py\n",
    "│   │   ├── gauss.py # guass quadrature for 2D\n",
    "│   │   ├── gauss_3D.py # guass quadrature for 3D\n",
    "|   |   ├── assembly_re.py # asseml the richards equ.\n",
    "|   |   ├── assembly_re_3D.py # asseml the 3D richards equ.\n",
    "|   |   └── assembly_solute.py # asseml the  solute transport equ.\n",
    "│   │\n",
    "│   ├── solvers/       # Solver implementations for the system including time loop, iterative loop\n",
    "|   |   |               # contract global matrices, apply BCs and solve the linear system Ax=b\n",
    "│   │   ├── init.py\n",
    "│   │   ├── jax_linear_solver.py\n",
    "│   │   ├── richards_solver.py # for the richards equation\n",
    "│   │   ├── couled_solver.py # for the coupled system water flow and solute transport equs.\n",
    "│   │   └── richards_solver_3D.py  # for 3D richards equation\n",
    "│   │\n",
    "│   ├── utils/         # Utilities\n",
    "│   │   ├── init.py\n",
    "│   │   ├── error_calculation.py\n",
    "│   │   ├── exact_solutions.py\n",
    "│   │   ├___results_handler.py\n",
    "|   |   |── plotting.py\n",
    "│   │   └── performance.py\n",
    "│   │       \n",
    "│   └── cli.py # main code\n",
    "└── job.sh # to run the code"
   ]
  }
 ],
 "metadata": {
  "kernelspec": {
   "display_name": "",
   "name": ""
  },
  "language_info": {
   "name": ""
  }
 },
 "nbformat": 4,
 "nbformat_minor": 5
}
